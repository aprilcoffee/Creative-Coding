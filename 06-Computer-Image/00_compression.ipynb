{
 "cells": [
  {
   "cell_type": "code",
   "execution_count": 52,
   "id": "ea91cad2-d549-4d52-9130-19da20371075",
   "metadata": {},
   "outputs": [],
   "source": [
    "from PIL import Image\n",
    "import os\n",
    "\n",
    "# Define input image path and output directory\n",
    "input_image_path = \"compression/img/img.jpeg\"  # Replace with your input image file\n",
    "\n",
    "output_directory = \"compression\"  # Replace with your desired output directory\n",
    "\n",
    "# Extract filename without extension\n",
    "base_filename = os.path.splitext(os.path.basename(input_image_path))[0]\n",
    "\n",
    "# Ensure the output subdirectory exists\n",
    "output_subdir = os.path.join(\"compression/img/\")\n",
    "\n",
    "for i in range(100000):\n",
    "    img = Image.open(input_image_path)\n",
    "    img = img.convert(\"RGB\")  # Ensure the image is in RGB mode for consistent format conversion\n",
    "    #display(img)\n",
    "    # Save as JPEG\n",
    "    input_image_path = os.path.join(output_subdir, f\"compression.jpeg\")\n",
    "    img.save(input_image_path, format=\"jpeg\")"
   ]
  }
 ],
 "metadata": {
  "kernelspec": {
   "display_name": "Python 3 (ipykernel)",
   "language": "python",
   "name": "python3"
  },
  "language_info": {
   "codemirror_mode": {
    "name": "ipython",
    "version": 3
   },
   "file_extension": ".py",
   "mimetype": "text/x-python",
   "name": "python",
   "nbconvert_exporter": "python",
   "pygments_lexer": "ipython3",
   "version": "3.12.7"
  }
 },
 "nbformat": 4,
 "nbformat_minor": 5
}
